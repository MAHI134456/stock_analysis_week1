{
 "cells": [
  {
   "cell_type": "markdown",
   "id": "8871bd9c",
   "metadata": {},
   "source": [
    "# loading the data"
   ]
  },
  {
   "cell_type": "code",
   "execution_count": 2,
   "id": "75eb2a40",
   "metadata": {},
   "outputs": [
    {
     "name": "stdout",
     "output_type": "stream",
     "text": [
      "        Date      Open      High       Low     Close  Adj Close      Volume  \\\n",
      "0 1997-05-15  0.121875  0.125000  0.096354  0.097917   0.097917  1443120000   \n",
      "1 1997-05-16  0.098438  0.098958  0.085417  0.086458   0.086458   294000000   \n",
      "2 1997-05-19  0.088021  0.088542  0.081250  0.085417   0.085417   122136000   \n",
      "3 1997-05-20  0.086458  0.087500  0.081771  0.081771   0.081771   109344000   \n",
      "4 1997-05-21  0.081771  0.082292  0.068750  0.071354   0.071354   377064000   \n",
      "\n",
      "   Dividends  Stock Splits  \n",
      "0        0.0           0.0  \n",
      "1        0.0           0.0  \n",
      "2        0.0           0.0  \n",
      "3        0.0           0.0  \n",
      "4        0.0           0.0  \n"
     ]
    }
   ],
   "source": [
    "import sys\n",
    "import os\n",
    "sys.path.append(os.path.abspath('..'))\n",
    "from scripts.__init__ import load_stock_data\n",
    "\n",
    "# loading aapl data\n",
    "df = load_stock_data(r'C:\\Users\\tsion\\OneDrive\\Desktop\\stock_analysis_week1\\data\\yfinance_data\\AMZN_historical_data.csv')\n",
    "if df is not None:\n",
    "    # Proceed with your analysis\n",
    "    print(df.head())\n",
    "else:\n",
    "    print(\"Data could not be loaded.\")\n"
   ]
  }
 ],
 "metadata": {
  "kernelspec": {
   "display_name": ".venv",
   "language": "python",
   "name": "python3"
  },
  "language_info": {
   "codemirror_mode": {
    "name": "ipython",
    "version": 3
   },
   "file_extension": ".py",
   "mimetype": "text/x-python",
   "name": "python",
   "nbconvert_exporter": "python",
   "pygments_lexer": "ipython3",
   "version": "3.13.3"
  }
 },
 "nbformat": 4,
 "nbformat_minor": 5
}
