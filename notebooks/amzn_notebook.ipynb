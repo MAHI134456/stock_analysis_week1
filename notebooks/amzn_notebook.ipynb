{
 "cells": [
  {
   "cell_type": "markdown",
   "id": "8871bd9c",
   "metadata": {},
   "source": [
    "# loading the data"
   ]
  },
  {
   "cell_type": "code",
   "execution_count": 1,
   "id": "75eb2a40",
   "metadata": {},
   "outputs": [
    {
     "name": "stdout",
     "output_type": "stream",
     "text": [
      "        Date      Open      High       Low     Close  Adj Close      Volume  \\\n",
      "0 1997-05-15  0.121875  0.125000  0.096354  0.097917   0.097917  1443120000   \n",
      "1 1997-05-16  0.098438  0.098958  0.085417  0.086458   0.086458   294000000   \n",
      "2 1997-05-19  0.088021  0.088542  0.081250  0.085417   0.085417   122136000   \n",
      "3 1997-05-20  0.086458  0.087500  0.081771  0.081771   0.081771   109344000   \n",
      "4 1997-05-21  0.081771  0.082292  0.068750  0.071354   0.071354   377064000   \n",
      "\n",
      "   Dividends  Stock Splits  \n",
      "0        0.0           0.0  \n",
      "1        0.0           0.0  \n",
      "2        0.0           0.0  \n",
      "3        0.0           0.0  \n",
      "4        0.0           0.0  \n"
     ]
    }
   ],
   "source": [
    "import importlib\n",
    "import sys\n",
    "import os\n",
    "\n",
    "# Add parent directory to sys.path\n",
    "sys.path.append(os.path.abspath('..'))\n",
    "\n",
    "# Import the full module first\n",
    "import scripts\n",
    "\n",
    "# Now reload it to ensure latest changes from __init__.py are used\n",
    "importlib.reload(scripts)\n",
    "\n",
    "# Now safely import the function\n",
    "from scripts.__init__ import load_stock_data\n",
    "\n",
    "# loading aapl data\n",
    "df = load_stock_data('../data/yfinance_data/AMZN_historical_Data.csv')\n",
    "if df is not None:\n",
    "    # Proceed with your analysis\n",
    "    print(df.head())\n",
    "else:\n",
    "    print(\"Data could not be loaded.\")"
   ]
  },
  {
   "cell_type": "markdown",
   "id": "7ef36a1c",
   "metadata": {},
   "source": [
    "## aplying analysis indicator using TA-Lib\n",
    "performming simple moving averages, RSI (Relative Strength Index), and MACD (Moving Average Convergence Divergence) and saving the output to data/preocessed directory"
   ]
  },
  {
   "cell_type": "code",
   "execution_count": 4,
   "id": "ce41181b",
   "metadata": {},
   "outputs": [
    {
     "name": "stdout",
     "output_type": "stream",
     "text": [
      "\n",
      "Data for AMZN with technical indicators:\n",
      "        Date     Close  SMA_20  RSI_14  MACD  MACD_signal  Daily_Return\n",
      "0 1997-05-15  0.097917     NaN     NaN   NaN          NaN           NaN\n",
      "1 1997-05-16  0.086458     NaN     NaN   NaN          NaN     -0.117028\n",
      "2 1997-05-19  0.085417     NaN     NaN   NaN          NaN     -0.012040\n",
      "3 1997-05-20  0.081771     NaN     NaN   NaN          NaN     -0.042685\n",
      "4 1997-05-21  0.071354     NaN     NaN   NaN          NaN     -0.127392\n",
      "Saved indicators for AMZN to ../data/processed/technical_indicators_AMZN.csv\n"
     ]
    }
   ],
   "source": [
    "from scripts import calculate_technical_indicators\n",
    "\n",
    "# Call the function\n",
    "calculate_technical_indicators('AMZN', '../data/yfinance_data/AMZN_historical_Data.csv')"
   ]
  }
 ],
 "metadata": {
  "kernelspec": {
   "display_name": "newenv",
   "language": "python",
   "name": "python3"
  },
  "language_info": {
   "codemirror_mode": {
    "name": "ipython",
    "version": 3
   },
   "file_extension": ".py",
   "mimetype": "text/x-python",
   "name": "python",
   "nbconvert_exporter": "python",
   "pygments_lexer": "ipython3",
   "version": "3.11.11"
  }
 },
 "nbformat": 4,
 "nbformat_minor": 5
}
