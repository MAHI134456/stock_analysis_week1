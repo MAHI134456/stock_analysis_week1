{
 "cells": [
  {
   "cell_type": "markdown",
   "id": "8b0a427a",
   "metadata": {},
   "source": [
    "# loading the data\n"
   ]
  },
  {
   "cell_type": "code",
   "execution_count": 4,
   "id": "f1671257",
   "metadata": {},
   "outputs": [
    {
     "name": "stdout",
     "output_type": "stream",
     "text": [
      "        Date      Open      High       Low     Close  Adj Close      Volume  \\\n",
      "0 1999-01-22  0.043750  0.048828  0.038802  0.041016   0.037621  2714688000   \n",
      "1 1999-01-25  0.044271  0.045833  0.041016  0.045313   0.041562   510480000   \n",
      "2 1999-01-26  0.045833  0.046745  0.041146  0.041797   0.038337   343200000   \n",
      "3 1999-01-27  0.041927  0.042969  0.039583  0.041667   0.038218   244368000   \n",
      "4 1999-01-28  0.041667  0.041927  0.041276  0.041536   0.038098   227520000   \n",
      "\n",
      "   Dividends  Stock Splits  \n",
      "0        0.0           0.0  \n",
      "1        0.0           0.0  \n",
      "2        0.0           0.0  \n",
      "3        0.0           0.0  \n",
      "4        0.0           0.0  \n"
     ]
    }
   ],
   "source": [
    "import importlib\n",
    "import sys\n",
    "import os\n",
    "\n",
    "# Add parent directory to sys.path\n",
    "sys.path.append(os.path.abspath('..'))\n",
    "\n",
    "# Import the full module first\n",
    "import scripts\n",
    "\n",
    "# Now reload it to ensure latest changes from __init__.py are used\n",
    "importlib.reload(scripts)\n",
    "\n",
    "# Now safely import the function\n",
    "from scripts.__init__ import load_stock_data\n",
    "\n",
    "# loading aapl data\n",
    "df = load_stock_data('../data/yfinance_data/NVDA_historical_Data.csv')\n",
    "if df is not None:\n",
    "    # Proceed with your analysis\n",
    "    print(df.head())\n",
    "else:\n",
    "    print(\"Data could not be loaded.\")"
   ]
  },
  {
   "cell_type": "markdown",
   "id": "b0b7b467",
   "metadata": {},
   "source": [
    "## aplying analysis indicator using TA-Lib\n",
    "performming simple moving averages, RSI (Relative Strength Index), and MACD (Moving Average Convergence Divergence) and saving the output to data/preocessed directory"
   ]
  },
  {
   "cell_type": "code",
   "execution_count": 5,
   "id": "ff1a4f4b",
   "metadata": {},
   "outputs": [
    {
     "name": "stdout",
     "output_type": "stream",
     "text": [
      "\n",
      "Data for NVDA with technical indicators:\n",
      "        Date     Close  SMA_20  RSI_14  MACD  MACD_signal  Daily_Return\n",
      "0 1999-01-22  0.041016     NaN     NaN   NaN          NaN           NaN\n",
      "1 1999-01-25  0.045313     NaN     NaN   NaN          NaN      0.104764\n",
      "2 1999-01-26  0.041797     NaN     NaN   NaN          NaN     -0.077594\n",
      "3 1999-01-27  0.041667     NaN     NaN   NaN          NaN     -0.003110\n",
      "4 1999-01-28  0.041536     NaN     NaN   NaN          NaN     -0.003144\n",
      "Saved indicators for NVDA to ../data/processed/technical_indicators_NVDA.csv\n"
     ]
    }
   ],
   "source": [
    "from scripts import calculate_technical_indicators\n",
    "\n",
    "# Call the function\n",
    "calculate_technical_indicators('NVDA', '../data/yfinance_data/NVDA_historical_Data.csv')"
   ]
  },
  {
   "cell_type": "markdown",
   "id": "67ab6825",
   "metadata": {},
   "source": [
    "## financial metrics and data visualization"
   ]
  },
  {
   "cell_type": "code",
   "execution_count": 6,
   "id": "7765b2b9",
   "metadata": {},
   "outputs": [
    {
     "name": "stdout",
     "output_type": "stream",
     "text": [
      "Loaded data for NVDA\n",
      "Saved visualizations for NVDA to reports/figures/\n"
     ]
    }
   ],
   "source": [
    "from scripts import visualize_indicators\n",
    "\n",
    "visualize_indicators('NVDA', '../data/processed/technical_indicators_NVDA.csv')"
   ]
  }
 ],
 "metadata": {
  "kernelspec": {
   "display_name": "newenv",
   "language": "python",
   "name": "python3"
  },
  "language_info": {
   "codemirror_mode": {
    "name": "ipython",
    "version": 3
   },
   "file_extension": ".py",
   "mimetype": "text/x-python",
   "name": "python",
   "nbconvert_exporter": "python",
   "pygments_lexer": "ipython3",
   "version": "3.11.11"
  }
 },
 "nbformat": 4,
 "nbformat_minor": 5
}
