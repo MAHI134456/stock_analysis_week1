{
 "cells": [
  {
   "cell_type": "markdown",
   "id": "4fb478ec",
   "metadata": {},
   "source": [
    "# loading the data "
   ]
  },
  {
   "cell_type": "code",
   "execution_count": 1,
   "id": "a7901c9d",
   "metadata": {},
   "outputs": [
    {
     "name": "stdout",
     "output_type": "stream",
     "text": [
      "        Date      Open      High       Low     Close  Adj Close     Volume  \\\n",
      "0 2004-08-19  2.490664  2.591785  2.390042  2.499133   2.496292  897427216   \n",
      "1 2004-08-20  2.515820  2.716817  2.503118  2.697639   2.694573  458857488   \n",
      "2 2004-08-23  2.758411  2.826406  2.716070  2.724787   2.721690  366857939   \n",
      "3 2004-08-24  2.770615  2.779581  2.579581  2.611960   2.608991  306396159   \n",
      "4 2004-08-25  2.614201  2.689918  2.587302  2.640104   2.637103  184645512   \n",
      "\n",
      "   Dividends  Stock Splits  \n",
      "0        0.0           0.0  \n",
      "1        0.0           0.0  \n",
      "2        0.0           0.0  \n",
      "3        0.0           0.0  \n",
      "4        0.0           0.0  \n"
     ]
    }
   ],
   "source": [
    "import importlib\n",
    "import sys\n",
    "import os\n",
    "\n",
    "# Add parent directory to sys.path\n",
    "sys.path.append(os.path.abspath('..'))\n",
    "\n",
    "# Import the full module first\n",
    "import scripts\n",
    "\n",
    "# Now reload it to ensure latest changes from __init__.py are used\n",
    "importlib.reload(scripts)\n",
    "\n",
    "# Now safely import the function\n",
    "from scripts.__init__ import load_stock_data\n",
    "\n",
    "# loading aapl data\n",
    "df = load_stock_data('../data/yfinance_data/GOOG_historical_Data.csv')\n",
    "if df is not None:\n",
    "    # Proceed with your analysis\n",
    "    print(df.head())\n",
    "else:\n",
    "    print(\"Data could not be loaded.\")"
   ]
  },
  {
   "cell_type": "markdown",
   "id": "e10ad212",
   "metadata": {},
   "source": [
    "## aplying analysis indicator using TA-Lib\n",
    "performming simple moving averages, RSI (Relative Strength Index), and MACD (Moving Average Convergence Divergence) and saving the output to data/preocessed directory"
   ]
  },
  {
   "cell_type": "code",
   "execution_count": 2,
   "id": "2a484e11",
   "metadata": {},
   "outputs": [
    {
     "name": "stdout",
     "output_type": "stream",
     "text": [
      "\n",
      "Data for GOOG with technical indicators:\n",
      "        Date     Close  SMA_20  RSI_14  MACD  MACD_signal  Daily_Return\n",
      "0 2004-08-19  2.499133     NaN     NaN   NaN          NaN           NaN\n",
      "1 2004-08-20  2.697639     NaN     NaN   NaN          NaN      0.079430\n",
      "2 2004-08-23  2.724787     NaN     NaN   NaN          NaN      0.010064\n",
      "3 2004-08-24  2.611960     NaN     NaN   NaN          NaN     -0.041408\n",
      "4 2004-08-25  2.640104     NaN     NaN   NaN          NaN      0.010775\n",
      "Saved indicators for GOOG to ../data/processed/technical_indicators_GOOG.csv\n"
     ]
    }
   ],
   "source": [
    "from scripts import calculate_technical_indicators\n",
    "\n",
    "# Call the function\n",
    "calculate_technical_indicators('GOOG', '../data/yfinance_data/GOOG_historical_Data.csv')"
   ]
  }
 ],
 "metadata": {
  "kernelspec": {
   "display_name": "newenv",
   "language": "python",
   "name": "python3"
  },
  "language_info": {
   "codemirror_mode": {
    "name": "ipython",
    "version": 3
   },
   "file_extension": ".py",
   "mimetype": "text/x-python",
   "name": "python",
   "nbconvert_exporter": "python",
   "pygments_lexer": "ipython3",
   "version": "3.11.11"
  }
 },
 "nbformat": 4,
 "nbformat_minor": 5
}
