{
 "cells": [
  {
   "cell_type": "markdown",
   "id": "d06859e2",
   "metadata": {},
   "source": [
    "# Sentiment Analysis & Stock Movement Correlation Notebook\n",
    "\n",
    "## Objective\n",
    "\n",
    "This notebook performs a **correlation analysis between news sentiment and stock price movements** for the following companies:\n",
    "\n",
    "- **Apple (AAPL)**\n",
    "- **Meta (META)**\n",
    "- **Microsoft (MSFT)**\n",
    "- **NVIDIA (NVDA)**\n",
    "- **Tesla (TSLA)**\n",
    "- **Google (GOOG)**\n",
    "- **Amazon (AMZN)**\n",
    "\n",
    "It aligns historical stock price data with analyst news headlines, computes daily returns and sentiment scores, and visualizes how public sentiment may correlate with market movement.\n",
    "\n",
    "---\n",
    "\n",
    "##  Key Tasks Performed\n",
    "\n",
    "1. **Date Alignment**:  \n",
    "   Ensures both datasets (news and stock prices) are aligned by date.\n",
    "\n",
    "2. **Sentiment Analysis**:  \n",
    "   Uses **VADER** from `nltk` to quantify the tone of each headline (positive, negative, neutral).\n",
    "\n",
    "3. **Daily Return Calculation**:  \n",
    "   Computes percentage change in closing prices to represent daily stock movement.\n",
    "\n",
    "4. **Correlation Analysis**:  \n",
    "   Calculates and visualizes the correlation between sentiment and daily returns.\n",
    "\n",
    "---\n",
    "\n",
    "## Inputs\n",
    "\n",
    "- **News Dataset**:  \n",
    "  `data/raw/raw_analyst_ratings.csv`\n",
    "\n",
    "- **Stock Data**:  \n",
    "  CSV files saved in `data/processed/technical_indicators_{ticker}.csv`\n",
    "\n",
    "---\n",
    "\n",
    "##  Outputs\n",
    "\n",
    "- **Aligned Datasets**:  \n",
    "  Saved in `data/processed/aligned_sentiment_returns_{ticker}.csv`\n",
    "\n",
    "- **Correlation Plots**:  \n",
    "  Scatter plots saved in `reports/figures/{ticker}_sentiment_return_correlation.png`"
   ]
  },
  {
   "cell_type": "code",
   "execution_count": 2,
   "id": "cdef6fbb",
   "metadata": {},
   "outputs": [
    {
     "name": "stderr",
     "output_type": "stream",
     "text": [
      "[nltk_data] Downloading package vader_lexicon to\n",
      "[nltk_data]     C:\\Users\\tsion\\AppData\\Roaming\\nltk_data...\n",
      "[nltk_data]   Package vader_lexicon is already up-to-date!\n"
     ]
    },
    {
     "name": "stdout",
     "output_type": "stream",
     "text": [
      "✅ News dataset loaded successfully.\n",
      "\n",
      "📈 Correlation for AAPL: 1.0000\n",
      "💾 Saved aligned data for AAPL\n",
      "📊 Saved plot for AAPL\n",
      "\n",
      "📈 Correlation for META: -0.9730\n",
      "💾 Saved aligned data for META\n",
      "📊 Saved plot for META\n",
      "\n",
      "📈 Correlation for MSFT: 0.1049\n",
      "💾 Saved aligned data for MSFT\n",
      "📊 Saved plot for MSFT\n",
      "\n",
      "📈 Correlation for NVDA: 0.5227\n",
      "💾 Saved aligned data for NVDA\n",
      "📊 Saved plot for NVDA\n"
     ]
    },
    {
     "name": "stderr",
     "output_type": "stream",
     "text": [
      "c:\\Users\\tsion\\anaconda3\\envs\\newenv\\Lib\\site-packages\\numpy\\lib\\_function_base_impl.py:3037: RuntimeWarning: Degrees of freedom <= 0 for slice\n",
      "  c = cov(x, y, rowvar, dtype=dtype)\n",
      "c:\\Users\\tsion\\anaconda3\\envs\\newenv\\Lib\\site-packages\\numpy\\lib\\_function_base_impl.py:2894: RuntimeWarning: divide by zero encountered in divide\n",
      "  c *= np.true_divide(1, fact)\n",
      "c:\\Users\\tsion\\anaconda3\\envs\\newenv\\Lib\\site-packages\\numpy\\lib\\_function_base_impl.py:2894: RuntimeWarning: invalid value encountered in multiply\n",
      "  c *= np.true_divide(1, fact)\n"
     ]
    },
    {
     "name": "stdout",
     "output_type": "stream",
     "text": [
      "\n",
      "📈 Correlation for TSLA: nan\n",
      "💾 Saved aligned data for TSLA\n",
      "📊 Saved plot for TSLA\n",
      "\n",
      "📈 Correlation for GOOG: -0.2344\n",
      "💾 Saved aligned data for GOOG\n",
      "📊 Saved plot for GOOG\n",
      "\n",
      "📈 Correlation for AMZN: -1.0000\n",
      "💾 Saved aligned data for AMZN\n",
      "📊 Saved plot for AMZN\n"
     ]
    }
   ],
   "source": [
    "import pandas as pd \n",
    "from nltk.sentiment.vader import SentimentIntensityAnalyzer\n",
    "import matplotlib.pyplot as plt\n",
    "import seaborn as sns\n",
    "import os  \n",
    "import importlib\n",
    "import sys\n",
    "\n",
    "\n",
    "# Add parent directory to sys.path\n",
    "sys.path.append(os.path.abspath('..'))\n",
    "\n",
    "# Import the full module first\n",
    "import scripts\n",
    "\n",
    "# Now reload it to ensure latest changes from __init__.py are used\n",
    "importlib.reload(scripts) \n",
    "\n",
    "from scripts import perform_sentiment_correlation\n",
    "\n",
    "TARGET_TICKERS = ['AAPL', 'META', 'MSFT', 'NVDA', 'TSLA', 'GOOG', 'AMZN']\n",
    "\n",
    "perform_sentiment_correlation(\n",
    "    news_filepath='../data/raw_analyst_ratings.csv',\n",
    "    data_dir='../data/processed/',\n",
    "    target_tickers=TARGET_TICKERS\n",
    ")"
   ]
  }
 ],
 "metadata": {
  "kernelspec": {
   "display_name": "newenv",
   "language": "python",
   "name": "python3"
  },
  "language_info": {
   "codemirror_mode": {
    "name": "ipython",
    "version": 3
   },
   "file_extension": ".py",
   "mimetype": "text/x-python",
   "name": "python",
   "nbconvert_exporter": "python",
   "pygments_lexer": "ipython3",
   "version": "3.11.11"
  }
 },
 "nbformat": 4,
 "nbformat_minor": 5
}
