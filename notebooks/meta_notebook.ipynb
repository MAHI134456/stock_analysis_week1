{
 "cells": [
  {
   "cell_type": "markdown",
   "id": "34da4f1c",
   "metadata": {},
   "source": [
    "# loading the data \n"
   ]
  },
  {
   "cell_type": "code",
   "execution_count": 1,
   "id": "d97186a7",
   "metadata": {},
   "outputs": [
    {
     "name": "stdout",
     "output_type": "stream",
     "text": [
      "        Date       Open       High        Low      Close  Adj Close    Volume  \\\n",
      "0 2012-12-12  28.000000  28.139999  27.370001  27.580000  27.523441  46704200   \n",
      "1 2012-12-13  27.590000  28.750000  27.430000  28.240000  28.182087  81051600   \n",
      "2 2012-12-14  28.180000  28.330000  26.760000  26.809999  26.755020  91631600   \n",
      "3 2012-12-17  26.770000  27.000000  26.320000  26.750000  26.695143  57742500   \n",
      "4 2012-12-18  26.959999  27.910000  26.900000  27.709999  27.653173  60512900   \n",
      "\n",
      "   Dividends  Stock Splits  \n",
      "0        0.0           0.0  \n",
      "1        0.0           0.0  \n",
      "2        0.0           0.0  \n",
      "3        0.0           0.0  \n",
      "4        0.0           0.0  \n"
     ]
    }
   ],
   "source": [
    "import importlib\n",
    "import sys\n",
    "import os\n",
    "\n",
    "# Add parent directory to sys.path\n",
    "sys.path.append(os.path.abspath('..'))\n",
    "\n",
    "# Import the full module first\n",
    "import scripts\n",
    "\n",
    "# Now reload it to ensure latest changes from __init__.py are used\n",
    "importlib.reload(scripts)\n",
    "\n",
    "# Now safely import the function\n",
    "from scripts.__init__ import load_stock_data\n",
    "\n",
    "# loading aapl data\n",
    "df = load_stock_data('../data/yfinance_data/META_historical_Data.csv')\n",
    "if df is not None:\n",
    "    # Proceed with your analysis\n",
    "    print(df.head())\n",
    "else:\n",
    "    print(\"Data could not be loaded.\")"
   ]
  },
  {
   "cell_type": "markdown",
   "id": "42637368",
   "metadata": {},
   "source": [
    "## aplying analysis indicator using TA-Lib\n",
    "performming simple moving averages, RSI (Relative Strength Index), and MACD (Moving Average Convergence Divergence) and saving the output to data/preocessed directory"
   ]
  },
  {
   "cell_type": "code",
   "execution_count": 3,
   "id": "a7a3c0fa",
   "metadata": {},
   "outputs": [
    {
     "name": "stdout",
     "output_type": "stream",
     "text": [
      "\n",
      "Data for META with technical indicators:\n",
      "        Date      Close  SMA_20  RSI_14  MACD  MACD_signal  Daily_Return\n",
      "0 2012-12-12  27.580000     NaN     NaN   NaN          NaN           NaN\n",
      "1 2012-12-13  28.240000     NaN     NaN   NaN          NaN      0.023930\n",
      "2 2012-12-14  26.809999     NaN     NaN   NaN          NaN     -0.050637\n",
      "3 2012-12-17  26.750000     NaN     NaN   NaN          NaN     -0.002238\n",
      "4 2012-12-18  27.709999     NaN     NaN   NaN          NaN      0.035888\n",
      "Saved indicators for META to ../data/processed/technical_indicators_META.csv\n"
     ]
    }
   ],
   "source": [
    "from scripts import calculate_technical_indicators\n",
    "\n",
    "# Call the function\n",
    "calculate_technical_indicators('META', '../data/yfinance_data/META_historical_Data.csv')"
   ]
  }
 ],
 "metadata": {
  "kernelspec": {
   "display_name": "newenv",
   "language": "python",
   "name": "python3"
  },
  "language_info": {
   "codemirror_mode": {
    "name": "ipython",
    "version": 3
   },
   "file_extension": ".py",
   "mimetype": "text/x-python",
   "name": "python",
   "nbconvert_exporter": "python",
   "pygments_lexer": "ipython3",
   "version": "3.11.11"
  }
 },
 "nbformat": 4,
 "nbformat_minor": 5
}
