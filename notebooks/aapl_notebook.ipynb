{
 "cells": [
  {
   "cell_type": "markdown",
   "id": "83df1608",
   "metadata": {},
   "source": [
    "# loading the data"
   ]
  },
  {
   "cell_type": "code",
   "execution_count": null,
   "id": "2a556ea2",
   "metadata": {},
   "outputs": [
    {
     "name": "stdout",
     "output_type": "stream",
     "text": [
      "        Date      Open      High       Low     Close  Adj Close     Volume  \\\n",
      "0 1980-12-12  0.128348  0.128906  0.128348  0.128348   0.098943  469033600   \n",
      "1 1980-12-15  0.122210  0.122210  0.121652  0.121652   0.093781  175884800   \n",
      "2 1980-12-16  0.113281  0.113281  0.112723  0.112723   0.086898  105728000   \n",
      "3 1980-12-17  0.115513  0.116071  0.115513  0.115513   0.089049   86441600   \n",
      "4 1980-12-18  0.118862  0.119420  0.118862  0.118862   0.091630   73449600   \n",
      "\n",
      "   Dividends  Stock Splits  \n",
      "0        0.0           0.0  \n",
      "1        0.0           0.0  \n",
      "2        0.0           0.0  \n",
      "3        0.0           0.0  \n",
      "4        0.0           0.0  \n"
     ]
    }
   ],
   "source": [
    "import importlib\n",
    "import sys\n",
    "import os\n",
    "\n",
    "# Add parent directory to sys.path\n",
    "sys.path.append(os.path.abspath('..'))\n",
    "\n",
    "# Import the full module first\n",
    "import scripts\n",
    "\n",
    "# Now reload it to ensure latest changes from __init__.py are used\n",
    "importlib.reload(scripts)\n",
    "\n",
    "# Now safely import the function\n",
    "from scripts.__init__ import load_stock_data\n",
    "\n",
    "# loading aapl data\n",
    "df = load_stock_data('../data/yfinance_data/AAPL_historical_Data.csv')\n",
    "if df is not None:\n",
    "    # Proceed with your analysis\n",
    "    print(df.head())\n",
    "else:\n",
    "    print(\"Data could not be loaded.\")"
   ]
  },
  {
   "cell_type": "markdown",
   "id": "8541b14a",
   "metadata": {},
   "source": [
    "## applying analysis indicator \n",
    "performming simple moving averages, RSI (Relative Strength Index), and MACD (Moving Average Convergence Divergence) and saving the output to data/preocessed directory\n"
   ]
  },
  {
   "cell_type": "code",
   "execution_count": 5,
   "id": "a2295615",
   "metadata": {},
   "outputs": [
    {
     "name": "stdout",
     "output_type": "stream",
     "text": [
      "\n",
      "Data for AAPL with technical indicators:\n",
      "        Date     Close  SMA_20  RSI_14  MACD  MACD_signal  Daily_Return\n",
      "0 1980-12-12  0.128348     NaN     NaN   NaN          NaN           NaN\n",
      "1 1980-12-15  0.121652     NaN     NaN   NaN          NaN     -0.052171\n",
      "2 1980-12-16  0.112723     NaN     NaN   NaN          NaN     -0.073398\n",
      "3 1980-12-17  0.115513     NaN     NaN   NaN          NaN      0.024751\n",
      "4 1980-12-18  0.118862     NaN     NaN   NaN          NaN      0.028992\n",
      "Saved indicators for AAPL to ../data/processed/technical_indicators_AAPL.csv\n"
     ]
    }
   ],
   "source": [
    "from scripts import calculate_technical_indicators\n",
    "\n",
    "# Call the function\n",
    "calculate_technical_indicators('AAPL', '../data/yfinance_data/AAPL_historical_Data.csv')"
   ]
  }
 ],
 "metadata": {
  "kernelspec": {
   "display_name": "newenv",
   "language": "python",
   "name": "python3"
  },
  "language_info": {
   "codemirror_mode": {
    "name": "ipython",
    "version": 3
   },
   "file_extension": ".py",
   "mimetype": "text/x-python",
   "name": "python",
   "nbconvert_exporter": "python",
   "pygments_lexer": "ipython3",
   "version": "3.11.11"
  }
 },
 "nbformat": 4,
 "nbformat_minor": 5
}
