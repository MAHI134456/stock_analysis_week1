{
 "cells": [
  {
   "cell_type": "markdown",
   "id": "83df1608",
   "metadata": {},
   "source": [
    "# loading the data"
   ]
  },
  {
   "cell_type": "code",
   "execution_count": null,
   "id": "2a556ea2",
   "metadata": {},
   "outputs": [
    {
     "name": "stdout",
     "output_type": "stream",
     "text": [
      "['C:\\\\Users\\\\tsion\\\\AppData\\\\Local\\\\Programs\\\\Python\\\\Python313\\\\python313.zip', 'C:\\\\Users\\\\tsion\\\\AppData\\\\Local\\\\Programs\\\\Python\\\\Python313\\\\DLLs', 'C:\\\\Users\\\\tsion\\\\AppData\\\\Local\\\\Programs\\\\Python\\\\Python313\\\\Lib', 'C:\\\\Users\\\\tsion\\\\AppData\\\\Local\\\\Programs\\\\Python\\\\Python313', 'c:\\\\Users\\\\tsion\\\\OneDrive\\\\Desktop\\\\stock_analysis_week1\\\\.venv', '', 'c:\\\\Users\\\\tsion\\\\OneDrive\\\\Desktop\\\\stock_analysis_week1\\\\.venv\\\\Lib\\\\site-packages', 'c:\\\\Users\\\\tsion\\\\OneDrive\\\\Desktop\\\\stock_analysis_week1\\\\.venv\\\\Lib\\\\site-packages\\\\win32', 'c:\\\\Users\\\\tsion\\\\OneDrive\\\\Desktop\\\\stock_analysis_week1\\\\.venv\\\\Lib\\\\site-packages\\\\win32\\\\lib', 'c:\\\\Users\\\\tsion\\\\OneDrive\\\\Desktop\\\\stock_analysis_week1\\\\.venv\\\\Lib\\\\site-packages\\\\Pythonwin', 'c:\\\\Users\\\\tsion\\\\OneDrive\\\\Desktop\\\\stock_analysis_week1', 'c:\\\\Users\\\\tsion\\\\OneDrive\\\\Desktop\\\\stock_analysis_week1']\n",
      "        Date      Open      High       Low     Close  Adj Close     Volume  \\\n",
      "0 1980-12-12  0.128348  0.128906  0.128348  0.128348   0.098943  469033600   \n",
      "1 1980-12-15  0.122210  0.122210  0.121652  0.121652   0.093781  175884800   \n",
      "2 1980-12-16  0.113281  0.113281  0.112723  0.112723   0.086898  105728000   \n",
      "3 1980-12-17  0.115513  0.116071  0.115513  0.115513   0.089049   86441600   \n",
      "4 1980-12-18  0.118862  0.119420  0.118862  0.118862   0.091630   73449600   \n",
      "\n",
      "   Dividends  Stock Splits  \n",
      "0        0.0           0.0  \n",
      "1        0.0           0.0  \n",
      "2        0.0           0.0  \n",
      "3        0.0           0.0  \n",
      "4        0.0           0.0  \n"
     ]
    }
   ],
   "source": [
    "import sys\n",
    "import os\n",
    "sys.path.append(os.path.abspath('..'))\n",
    "from scripts.__init__ import load_stock_data\n",
    "\n",
    "# loading aapl data\n",
    "df = load_stock_data(r'C:\\Users\\tsion\\OneDrive\\Desktop\\stock_analysis_week1\\data\\yfinance_data\\AAPL_historical_data.csv')\n",
    "if df is not None:\n",
    "    # Proceed with your analysis\n",
    "    print(df.head())\n",
    "else:\n",
    "    print(\"Data could not be loaded.\")"
   ]
  }
 ],
 "metadata": {
  "kernelspec": {
   "display_name": ".venv",
   "language": "python",
   "name": "python3"
  },
  "language_info": {
   "codemirror_mode": {
    "name": "ipython",
    "version": 3
   },
   "file_extension": ".py",
   "mimetype": "text/x-python",
   "name": "python",
   "nbconvert_exporter": "python",
   "pygments_lexer": "ipython3",
   "version": "3.13.3"
  }
 },
 "nbformat": 4,
 "nbformat_minor": 5
}
