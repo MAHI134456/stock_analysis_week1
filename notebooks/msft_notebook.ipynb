{
 "cells": [
  {
   "cell_type": "markdown",
   "id": "457dbd8a",
   "metadata": {},
   "source": [
    "# loading the data\n"
   ]
  },
  {
   "cell_type": "code",
   "execution_count": 1,
   "id": "46c10fcb",
   "metadata": {},
   "outputs": [
    {
     "name": "stdout",
     "output_type": "stream",
     "text": [
      "        Date      Open      High       Low     Close  Adj Close      Volume  \\\n",
      "0 1986-03-13  0.088542  0.101563  0.088542  0.097222   0.059946  1031788800   \n",
      "1 1986-03-14  0.097222  0.102431  0.097222  0.100694   0.062087   308160000   \n",
      "2 1986-03-17  0.100694  0.103299  0.100694  0.102431   0.063158   133171200   \n",
      "3 1986-03-18  0.102431  0.103299  0.098958  0.099826   0.061552    67766400   \n",
      "4 1986-03-19  0.099826  0.100694  0.097222  0.098090   0.060482    47894400   \n",
      "\n",
      "   Dividends  Stock Splits  \n",
      "0        0.0           0.0  \n",
      "1        0.0           0.0  \n",
      "2        0.0           0.0  \n",
      "3        0.0           0.0  \n",
      "4        0.0           0.0  \n"
     ]
    }
   ],
   "source": [
    "import importlib\n",
    "import sys\n",
    "import os\n",
    "\n",
    "# Add parent directory to sys.path\n",
    "sys.path.append(os.path.abspath('..'))\n",
    "\n",
    "# Import the full module first\n",
    "import scripts\n",
    "\n",
    "# Now reload it to ensure latest changes from __init__.py are used\n",
    "importlib.reload(scripts)\n",
    "\n",
    "# Now safely import the function\n",
    "from scripts.__init__ import load_stock_data\n",
    "\n",
    "# loading aapl data\n",
    "df = load_stock_data('../data/yfinance_data/MSFT_historical_Data.csv')\n",
    "if df is not None:\n",
    "    # Proceed with your analysis\n",
    "    print(df.head())\n",
    "else:\n",
    "    print(\"Data could not be loaded.\")"
   ]
  },
  {
   "cell_type": "markdown",
   "id": "f847d08c",
   "metadata": {},
   "source": [
    "## aplying analysis indicator using TA-Lib\n",
    "performming simple moving averages, RSI (Relative Strength Index), and MACD (Moving Average Convergence Divergence) and saving the output to data/preocessed directory"
   ]
  },
  {
   "cell_type": "code",
   "execution_count": 2,
   "id": "862cbe35",
   "metadata": {},
   "outputs": [
    {
     "name": "stdout",
     "output_type": "stream",
     "text": [
      "\n",
      "Data for GOOG with technical indicators:\n",
      "        Date     Close  SMA_20  RSI_14  MACD  MACD_signal  Daily_Return\n",
      "0 2004-08-19  2.499133     NaN     NaN   NaN          NaN           NaN\n",
      "1 2004-08-20  2.697639     NaN     NaN   NaN          NaN      0.079430\n",
      "2 2004-08-23  2.724787     NaN     NaN   NaN          NaN      0.010064\n",
      "3 2004-08-24  2.611960     NaN     NaN   NaN          NaN     -0.041408\n",
      "4 2004-08-25  2.640104     NaN     NaN   NaN          NaN      0.010775\n",
      "Saved indicators for GOOG to ../data/processed/technical_indicators_GOOG.csv\n"
     ]
    }
   ],
   "source": [
    "from scripts import calculate_technical_indicators\n",
    "\n",
    "# Call the function\n",
    "calculate_technical_indicators('GOOG', '../data/yfinance_data/GOOG_historical_Data.csv')"
   ]
  }
 ],
 "metadata": {
  "kernelspec": {
   "display_name": "newenv",
   "language": "python",
   "name": "python3"
  },
  "language_info": {
   "codemirror_mode": {
    "name": "ipython",
    "version": 3
   },
   "file_extension": ".py",
   "mimetype": "text/x-python",
   "name": "python",
   "nbconvert_exporter": "python",
   "pygments_lexer": "ipython3",
   "version": "3.11.11"
  }
 },
 "nbformat": 4,
 "nbformat_minor": 5
}
