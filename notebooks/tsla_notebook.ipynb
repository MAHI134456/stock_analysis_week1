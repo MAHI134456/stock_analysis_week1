{
 "cells": [
  {
   "cell_type": "markdown",
   "id": "2a8a3040",
   "metadata": {},
   "source": [
    "# loading the data "
   ]
  },
  {
   "cell_type": "code",
   "execution_count": 4,
   "id": "46fd095a",
   "metadata": {},
   "outputs": [
    {
     "name": "stdout",
     "output_type": "stream",
     "text": [
      "        Date      Open      High       Low     Close  Adj Close     Volume  \\\n",
      "0 2010-06-29  1.266667  1.666667  1.169333  1.592667   1.592667  281494500   \n",
      "1 2010-06-30  1.719333  2.028000  1.553333  1.588667   1.588667  257806500   \n",
      "2 2010-07-01  1.666667  1.728000  1.351333  1.464000   1.464000  123282000   \n",
      "3 2010-07-02  1.533333  1.540000  1.247333  1.280000   1.280000   77097000   \n",
      "4 2010-07-06  1.333333  1.333333  1.055333  1.074000   1.074000  103003500   \n",
      "\n",
      "   Dividends  Stock Splits  \n",
      "0        0.0           0.0  \n",
      "1        0.0           0.0  \n",
      "2        0.0           0.0  \n",
      "3        0.0           0.0  \n",
      "4        0.0           0.0  \n"
     ]
    }
   ],
   "source": [
    "import importlib\n",
    "import sys\n",
    "import os\n",
    "\n",
    "# Add parent directory to sys.path\n",
    "sys.path.append(os.path.abspath('..'))\n",
    "\n",
    "# Import the full module first\n",
    "import scripts\n",
    "\n",
    "# Now reload it to ensure latest changes from __init__.py are used\n",
    "importlib.reload(scripts)\n",
    "\n",
    "# Now safely import the function\n",
    "from scripts.__init__ import load_stock_data\n",
    "\n",
    "# loading aapl data\n",
    "df = load_stock_data('../data/yfinance_data/TSLA_historical_Data.csv')\n",
    "if df is not None:\n",
    "    # Proceed with your analysis\n",
    "    print(df.head())\n",
    "else:\n",
    "    print(\"Data could not be loaded.\")"
   ]
  },
  {
   "cell_type": "markdown",
   "id": "4a90bb3c",
   "metadata": {},
   "source": [
    "## aplying analysis indicator using TA-Lib\n",
    "performming simple moving averages, RSI (Relative Strength Index), and MACD (Moving Average Convergence Divergence) and saving the output to data/preocessed directory"
   ]
  },
  {
   "cell_type": "code",
   "execution_count": 5,
   "id": "fc24b443",
   "metadata": {},
   "outputs": [
    {
     "name": "stdout",
     "output_type": "stream",
     "text": [
      "\n",
      "Data for TSLA with technical indicators:\n",
      "        Date     Close  SMA_20  RSI_14  MACD  MACD_signal  Daily_Return\n",
      "0 2010-06-29  1.592667     NaN     NaN   NaN          NaN           NaN\n",
      "1 2010-06-30  1.588667     NaN     NaN   NaN          NaN     -0.002511\n",
      "2 2010-07-01  1.464000     NaN     NaN   NaN          NaN     -0.078473\n",
      "3 2010-07-02  1.280000     NaN     NaN   NaN          NaN     -0.125683\n",
      "4 2010-07-06  1.074000     NaN     NaN   NaN          NaN     -0.160937\n",
      "Saved indicators for TSLA to ../data/processed/technical_indicators_TSLA.csv\n"
     ]
    }
   ],
   "source": [
    "from scripts import calculate_technical_indicators\n",
    "\n",
    "# Call the function\n",
    "calculate_technical_indicators('TSLA', '../data/yfinance_data/TSLA_historical_Data.csv')"
   ]
  },
  {
   "cell_type": "markdown",
   "id": "66e442a5",
   "metadata": {},
   "source": [
    "## financial metrics and data visualization"
   ]
  },
  {
   "cell_type": "code",
   "execution_count": 6,
   "id": "8925923f",
   "metadata": {},
   "outputs": [
    {
     "name": "stdout",
     "output_type": "stream",
     "text": [
      "Loaded data for TSLA\n",
      "Saved visualizations for TSLA to reports/figures/\n"
     ]
    }
   ],
   "source": [
    "from scripts import visualize_indicators\n",
    "\n",
    "visualize_indicators('TSLA', '../data/processed/technical_indicators_TSLA.csv')"
   ]
  }
 ],
 "metadata": {
  "kernelspec": {
   "display_name": "newenv",
   "language": "python",
   "name": "python3"
  },
  "language_info": {
   "codemirror_mode": {
    "name": "ipython",
    "version": 3
   },
   "file_extension": ".py",
   "mimetype": "text/x-python",
   "name": "python",
   "nbconvert_exporter": "python",
   "pygments_lexer": "ipython3",
   "version": "3.11.11"
  }
 },
 "nbformat": 4,
 "nbformat_minor": 5
}
